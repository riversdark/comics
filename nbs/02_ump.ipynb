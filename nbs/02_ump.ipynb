{
 "cells": [
  {
   "cell_type": "markdown",
   "id": "60725379",
   "metadata": {},
   "source": [
    "# ump\n",
    "\n",
    "> Untargeted Metabolomics Preprocessing"
   ]
  },
  {
   "cell_type": "code",
   "execution_count": null,
   "id": "f8b06cf3",
   "metadata": {},
   "outputs": [],
   "source": [
    "#| default_exp ump"
   ]
  },
  {
   "cell_type": "code",
   "execution_count": null,
   "id": "605a09f3",
   "metadata": {},
   "outputs": [],
   "source": [
    "#| exports\n",
    "import os\n",
    "import urllib.request\n",
    "import pyopenms as oms\n"
   ]
  },
  {
   "cell_type": "markdown",
   "id": "7d236c41",
   "metadata": {},
   "source": [
    "The universal workflow for untargeted `metabolomics` always consists of *feature detection* in the individual MS sample files and their linkage to *consensus features* with common m/z and retention time values. \n",
    "\n",
    "In addition, there are optional steps such as adduct detection and annotation of `features` with associated `MS2` spectra.\n"
   ]
  },
  {
   "cell_type": "markdown",
   "id": "2335436b",
   "metadata": {},
   "source": [
    "\n",
    "download two example `mzML` files.\n"
   ]
  },
  {
   "cell_type": "code",
   "execution_count": null,
   "id": "1f03fc66",
   "metadata": {},
   "outputs": [],
   "source": [
    "gh = \"https://raw.githubusercontent.com/OpenMS/pyopenms-docs/master\"\n",
    "URL1 = gh + \"/src/data/Metabolomics_1.mzML\"\n",
    "URL2 = gh + \"/src/data/Metabolomics_2.mzML\"\n",
    "PROJ_DIR = 'ump/'\n",
    "\n",
    "# create project directory if it doesn't exist\n",
    "if not os.path.exists(PROJ_DIR):\n",
    "    os.makedirs(PROJ_DIR)\n",
    "\n",
    "# download data to project directory if it doesn't exist\n",
    "if not os.path.exists(PROJ_DIR + 'Metabolomics_1.mzML'):\n",
    "    urllib.request.urlretrieve(URL1, PROJ_DIR + 'Metabolomics_1.mzML')\n",
    "if not os.path.exists(PROJ_DIR + 'Metabolomics_2.mzML'):\n",
    "    urllib.request.urlretrieve(URL2, PROJ_DIR + 'Metabolomics_2.mzML')"
   ]
  },
  {
   "cell_type": "code",
   "execution_count": null,
   "id": "987ac468",
   "metadata": {},
   "outputs": [],
   "source": [
    "# change working directory to project directory\n",
    "os.chdir(PROJ_DIR)"
   ]
  },
  {
   "cell_type": "code",
   "execution_count": null,
   "id": "d4364628",
   "metadata": {},
   "outputs": [
    {
     "name": "stdout",
     "output_type": "stream",
     "text": [
      "/home/ma/git/comics/nbs/ump\n"
     ]
    }
   ],
   "source": [
    "!pwd"
   ]
  },
  {
   "cell_type": "code",
   "execution_count": null,
   "id": "ffedd1b2",
   "metadata": {},
   "outputs": [],
   "source": [
    "mzML_files = [\"Metabolomics_1.mzML\", \"Metabolomics_2.mzML\"]"
   ]
  },
  {
   "cell_type": "markdown",
   "id": "db17b5bf",
   "metadata": {},
   "source": [
    "explore the files"
   ]
  },
  {
   "cell_type": "code",
   "execution_count": null,
   "id": "ff61549a",
   "metadata": {},
   "outputs": [],
   "source": [
    "#| export\n",
    "\n",
    "def explore_mzml_files(file_paths):\n",
    "    \"\"\"\n",
    "    Load a list of mzML files and print out the number of spectra and chromatograms in each file.\n",
    "    \n",
    "    Parameters:\n",
    "    file_paths (list): A list of paths to the mzML files to be explored.\n",
    "    \"\"\"\n",
    "    for file_path in file_paths:\n",
    "        # Load the mzML file into an MSExperiment object\n",
    "        exp = oms.MSExperiment()\n",
    "        oms.MzMLFile().load(file_path, exp)\n",
    "\n",
    "        # Print the number of spectra and chromatograms in the file\n",
    "        print(\"File:\", file_path)\n",
    "        print(\"Number of spectra:\", exp.getNrSpectra())\n",
    "        print(\"Number of chromatograms:\", exp.getNrChromatograms())"
   ]
  },
  {
   "cell_type": "code",
   "execution_count": null,
   "id": "478d8f31",
   "metadata": {},
   "outputs": [
    {
     "name": "stdout",
     "output_type": "stream",
     "text": [
      "File: Metabolomics_1.mzML\n",
      "Number of spectra: 1052\n",
      "Number of chromatograms: 1\n",
      "File: Metabolomics_2.mzML\n",
      "Number of spectra: 963\n",
      "Number of chromatograms: 1\n"
     ]
    }
   ],
   "source": [
    "explore_mzml_files(mzML_files)"
   ]
  },
  {
   "cell_type": "markdown",
   "id": "e63e6dcc",
   "metadata": {},
   "source": [
    "\n",
    "For each `mzML` file do mass trace, elution peak and features detection.\n"
   ]
  },
  {
   "cell_type": "code",
   "execution_count": null,
   "id": "1a988a89",
   "metadata": {},
   "outputs": [],
   "source": [
    "#| export\n",
    "\n",
    "def process_files(mzML_files):\n",
    "    \"\"\"\n",
    "    Process a list of mzML files and return a list of feature maps.\n",
    "    \n",
    "    Parameters:\n",
    "    mzML_files (list): A list of mzML file paths to be processed.\n",
    "    \n",
    "    Returns:\n",
    "    list: A list of feature maps.\n",
    "    \"\"\"\n",
    "    feature_maps = []\n",
    "    for file in mzML_files:\n",
    "        print(\"Processing file:\", file)\n",
    "        # load mzML file into MSExperiment\n",
    "        exp = oms.MSExperiment()\n",
    "        oms.MzMLFile().load(file, exp)  # load each mzML file to an OpenMS file format (MSExperiment)\n",
    "\n",
    "        # mass trace detection\n",
    "        mass_traces = ([])  # introduce an empty list where the mass traces will be loaded\n",
    "        mtd = oms.MassTraceDetection()\n",
    "        mtd_par = (mtd.getDefaults())  # get the default parameters in order to edit them\n",
    "        mtd_par.setValue(\"mass_error_ppm\", 10.0)  # high-res instrument, orbitraps\n",
    "        mtd_par.setValue(\"noise_threshold_int\", 1.0e04)  # data-dependent (usually works for orbitraps)\n",
    "        mtd.setParameters(mtd_par)  # set the new parameters\n",
    "        mtd.run(exp, mass_traces, 0)  # run mass trace detection\n",
    "\n",
    "        # elution peak detection\n",
    "        mass_traces_deconvol = []\n",
    "        epd = oms.ElutionPeakDetection()\n",
    "        epd_par = epd.getDefaults()\n",
    "        epd_par.setValue(\n",
    "            \"width_filtering\", \"fixed\"\n",
    "        )  # The fixed setting filters out mass traces outside the [min_fwhm: 1.0, max_fwhm: 60.0] interval\n",
    "        epd.setParameters(epd_par)\n",
    "        epd.detectPeaks(mass_traces, mass_traces_deconvol)\n",
    "\n",
    "        # feature detection\n",
    "        feature_map = oms.FeatureMap()  # output features\n",
    "        chrom_out = []  # output chromatograms\n",
    "        ffm = oms.FeatureFindingMetabo()\n",
    "        ffm_par = ffm.getDefaults()\n",
    "        ffm_par.setValue(\n",
    "            \"remove_single_traces\", \"true\"\n",
    "        )  # remove mass traces without satellite isotopic traces\n",
    "        ffm.setParameters(ffm_par)\n",
    "        ffm.run(mass_traces_deconvol, feature_map, chrom_out)\n",
    "        feature_map.setUniqueIds()  # Assigns a new, valid unique id per feature\n",
    "        feature_map.setPrimaryMSRunPath(\n",
    "            [file.encode()]\n",
    "        )  # Sets the file path to the primary MS run (usually the mzML file)\n",
    "        feature_maps.append(feature_map)\n",
    "    return feature_maps"
   ]
  },
  {
   "cell_type": "code",
   "execution_count": null,
   "id": "89af7645",
   "metadata": {},
   "outputs": [
    {
     "name": "stdout",
     "output_type": "stream",
     "text": [
      "Processing file: Metabolomics_1.mzML\n",
      "Progress of 'mass trace detection':\n",
      "-- done [took 0.30 s (CPU), 0.01 s (Wall)] -- \n",
      "Progress of 'elution peak detection':\n",
      "-- done [took 0.17 s (CPU), 0.01 s (Wall)] -- \n",
      "Progress of 'assembling mass traces to features':\n",
      "Loading metabolite isotope model with 5% RMS error\n",
      "-- done [took 0.29 s (CPU), 0.00 s (Wall)] -- \n",
      "Processing file: Metabolomics_2.mzML\n",
      "Progress of 'mass trace detection':\n",
      "-- done [took 0.14 s (CPU), 0.00 s (Wall)] -- \n",
      "Progress of 'elution peak detection':\n",
      "-- done [took 0.12 s (CPU), 0.00 s (Wall)] -- \n",
      "Progress of 'assembling mass traces to features':\n",
      "-- done [took 0.29 s (CPU), 0.00 s (Wall)] -- \n"
     ]
    }
   ],
   "source": [
    "# process files\n",
    "feature_maps = process_files(mzML_files)"
   ]
  },
  {
   "cell_type": "markdown",
   "id": "47e8459e",
   "metadata": {},
   "source": [
    "retention times alignment\n",
    "\n",
    "based on the `feature map` with the highest number of features (reference map).\n"
   ]
  },
  {
   "cell_type": "markdown",
   "id": "fbe8127d",
   "metadata": {},
   "source": [
    "\n",
    "Map alignment is a process of aligning multiple mass spectrometry maps to a common reference map, which is typically the map with the most features or the highest quality. The goal of map alignment is to correct for small variations in retention time and m/z values between maps, so that corresponding features in different maps can be accurately compared and quantified."
   ]
  },
  {
   "cell_type": "code",
   "execution_count": null,
   "id": "8f84e51c",
   "metadata": {},
   "outputs": [],
   "source": [
    "# use as reference for alignment, the file with the largest number of features\n",
    "# (works well if you have a pooled QC for example)\n",
    "ref_index = feature_maps.index(sorted(feature_maps, key=lambda x: x.size())[-1])\n",
    "\n",
    "aligner = oms.MapAlignmentAlgorithmPoseClustering()\n",
    "\n",
    "trafos = {}\n",
    "\n",
    "# parameter optimization\n",
    "aligner_par = aligner.getDefaults()\n",
    "aligner_par.setValue(\"max_num_peaks_considered\", -1)  # infinite\n",
    "aligner_par.setValue(\n",
    "    \"pairfinder:distance_MZ:max_difference\", 10.0\n",
    ")  # Never pair features with larger m/z distance\n",
    "aligner_par.setValue(\"pairfinder:distance_MZ:unit\", \"ppm\")\n",
    "aligner.setParameters(aligner_par)\n",
    "aligner.setReference(feature_maps[ref_index])\n",
    "\n",
    "for feature_map in feature_maps[:ref_index] + feature_maps[ref_index + 1 :]:\n",
    "    trafo = oms.TransformationDescription()  # save the transformed data points\n",
    "    aligner.align(feature_map, trafo)\n",
    "    trafos[feature_map.getMetaValue(\"spectra_data\")[0].decode()] = trafo\n",
    "    transformer = oms.MapAlignmentTransformer()\n",
    "    transformer.transformRetentionTimes(feature_map, trafo, True)"
   ]
  },
  {
   "cell_type": "code",
   "execution_count": null,
   "id": "4cc7b01d",
   "metadata": {},
   "outputs": [
    {
     "data": {
      "text/plain": [
       "[<pyopenms._dataframes._FeatureMapDF>,\n",
       " <pyopenms._dataframes._FeatureMapDF>]"
      ]
     },
     "execution_count": null,
     "metadata": {},
     "output_type": "execute_result"
    }
   ],
   "source": [
    "feature_maps"
   ]
  },
  {
   "cell_type": "markdown",
   "id": "feee6305",
   "metadata": {},
   "source": [
    "\n",
    "Align `mzML` files aligment based on FeatureMap alignment (optional, only for GNPS).\n",
    "\n",
    "GNPS is a web-based mass spectrometry ecosystem that aims to be an open-access knowledge base for community-wide organization and sharing of raw, processed or identified tandem mass (MS/MS) spectrometry data.\n"
   ]
  },
  {
   "cell_type": "code",
   "execution_count": null,
   "id": "3b58e120",
   "metadata": {},
   "outputs": [],
   "source": [
    "\n",
    "for file in mzML_files:\n",
    "    exp = oms.MSExperiment()\n",
    "    oms.MzMLFile().load(file, exp)\n",
    "    exp.sortSpectra(True)\n",
    "    exp.setMetaValue(\"mzML_path\", file)\n",
    "    if file not in trafos.keys():\n",
    "        oms.MzMLFile().store(file[:-5] + \"_aligned.mzML\", exp)\n",
    "        continue\n",
    "    transformer = oms.MapAlignmentTransformer()\n",
    "    trafo_description = trafos[file]\n",
    "    transformer.transformRetentionTimes(exp, trafo_description, True)\n",
    "    oms.MzMLFile().store(file[:-5] + \"_aligned.mzML\", exp)\n",
    "mzML_files = [file[:-5] + \"_aligned.mzML\" for file in mzML_files]\n"
   ]
  },
  {
   "cell_type": "markdown",
   "id": "1a0238e4",
   "metadata": {},
   "source": [
    "Map `MS2` spectra to features as PeptideIdentification objects (optional, only for GNPS).\n"
   ]
  },
  {
   "cell_type": "code",
   "execution_count": null,
   "id": "7e1c6be0",
   "metadata": {},
   "outputs": [
    {
     "name": "stdout",
     "output_type": "stream",
     "text": [
      "IDMapper warning: at least one feature has no convex hull - using centroid coordinates for matching\n",
      "1052 spectra and 1 chromatograms stored.\n",
      "<Loading metabolite isotope model with 5% RMS error> occurred 2 times\n",
      "963 spectra and 1 chromatograms stored.\n",
      "Unassigned peptides: 0\n",
      "Peptides assigned to exactly one feature: 0\n",
      "Peptides assigned to multiple features: 0\n",
      "Unassigned and unidentified precursors: 718\n",
      "Unidentified precursor assigned to exactly one feature: 0\n",
      "Unidentified precursor assigned to multiple features: 0\n",
      "Feature annotation with identifications:\n",
      "    no ID: 74\n",
      "    single ID: 0\n",
      "    multiple IDs (identical): 0\n",
      "    multiple IDs (divergent): 0\n",
      "\n",
      "\n",
      "Unassigned peptides: 0\n",
      "Peptides assigned to exactly one feature: 0\n",
      "Peptides assigned to multiple features: 0\n",
      "Unassigned and unidentified precursors: 634\n",
      "Unidentified precursor assigned to exactly one feature: 0\n",
      "Unidentified precursor assigned to multiple features: 0\n",
      "Feature annotation with identifications:\n",
      "    no ID: 70\n",
      "    single ID: 0\n",
      "    multiple IDs (identical): 0\n",
      "    multiple IDs (divergent): 0\n",
      "\n",
      "\n"
     ]
    }
   ],
   "source": [
    "feature_maps_mapped = []\n",
    "use_centroid_rt = False\n",
    "use_centroid_mz = True\n",
    "mapper = oms.IDMapper()\n",
    "for file in mzML_files:\n",
    "    exp = oms.MSExperiment()\n",
    "    oms.MzMLFile().load(file, exp)\n",
    "    for i, feature_map in enumerate(feature_maps):\n",
    "        if feature_map.getMetaValue(\"spectra_data\")[\n",
    "            0\n",
    "        ].decode() == exp.getMetaValue(\"mzML_path\"):\n",
    "            peptide_ids = []\n",
    "            protein_ids = []\n",
    "            mapper.annotate(\n",
    "                feature_map,\n",
    "                peptide_ids,\n",
    "                protein_ids,\n",
    "                use_centroid_rt,\n",
    "                use_centroid_mz,\n",
    "                exp,\n",
    "            )\n",
    "            fm_new = oms.FeatureMap(feature_map)\n",
    "            fm_new.clear(False)\n",
    "            # set unique identifiers to protein and peptide identifications\n",
    "            prot_ids = []\n",
    "            if len(feature_map.getProteinIdentifications()) > 0:\n",
    "                prot_id = feature_map.getProteinIdentifications()[0]\n",
    "                prot_id.setIdentifier(f\"Identifier_{i}\")\n",
    "                prot_ids.append(prot_id)\n",
    "            fm_new.setProteinIdentifications(prot_ids)\n",
    "            for feature in feature_map:\n",
    "                pep_ids = []\n",
    "                for pep_id in feature.getPeptideIdentifications():\n",
    "                    pep_id.setIdentifier(f\"Identifier_{i}\")\n",
    "                    pep_ids.append(pep_id)\n",
    "                feature.setPeptideIdentifications(pep_ids)\n",
    "                fm_new.push_back(feature)\n",
    "            feature_maps_mapped.append(fm_new)\n",
    "feature_maps = feature_maps_mapped\n"
   ]
  },
  {
   "cell_type": "markdown",
   "id": "d7c81a5e",
   "metadata": {},
   "source": [
    "\n",
    "Detect adducts (optional, only for SIRIUS and GNPS Ion Identity\n",
    "Molecular Networking).\n"
   ]
  },
  {
   "cell_type": "code",
   "execution_count": null,
   "id": "154d929f",
   "metadata": {},
   "outputs": [
    {
     "name": "stdout",
     "output_type": "stream",
     "text": [
      "MassExplainer table size: 312\n",
      "Generating Masses with threshold: -6.90776 ...\n",
      "done\n",
      "4 of 17 valid net charge compomer results did not pass the feature charge constraints\n",
      "Inferring edges raised edge count from 19 to 19\n",
      "Found 19 putative edges (of 53) and avg hit-size of 1.21053\n",
      "Using solver 'coinor' ...\n",
      "Optimal solution found!\n",
      " Branch and cut took 0.001311 seconds,  with objective value: 0.6032.\n",
      "ILP score is: 0.6032\n",
      "Agreeing charges: 26/26\n",
      "MassExplainer table size: 312\n",
      "Generating Masses with threshold: -6.90776 ...\n",
      "done\n",
      "28 of 85 valid net charge compomer results did not pass the feature charge constraints\n",
      "Inferring edges raised edge count from 80 to 80\n",
      "Found 80 putative edges (of 165) and avg hit-size of 1.5125\n",
      "Using solver 'coinor' ...\n",
      "Optimal solution found!\n",
      " Branch and cut took 0.005307 seconds,  with objective value: 1.59.\n",
      "ILP score is: 1.59\n",
      "Agreeing charges: 86/86\n"
     ]
    }
   ],
   "source": [
    "feature_maps_adducts = []\n",
    "for feature_map in feature_maps:\n",
    "    mfd = oms.MetaboliteFeatureDeconvolution()\n",
    "    mdf_par = mfd.getDefaults()\n",
    "    mdf_par.setValue(\n",
    "        \"potential_adducts\",\n",
    "        [\n",
    "            b\"H:+:0.4\",\n",
    "            b\"Na:+:0.2\",\n",
    "            b\"NH4:+:0.2\",\n",
    "            b\"H-1O-1:+:0.1\",\n",
    "            b\"H-3O-2:+:0.1\",\n",
    "        ],\n",
    "    )\n",
    "    mfd.setParameters(mdf_par)\n",
    "    feature_map_adduct = oms.FeatureMap()\n",
    "    mfd.compute(feature_map, feature_map_adduct, oms.ConsensusMap(), oms.ConsensusMap())\n",
    "    feature_maps_adducts.append(feature_map_adduct)\n",
    "feature_maps = feature_maps_adducts\n",
    "\n",
    "# for SIRIUS store the feature maps as featureXML files!\n",
    "for feature_map in feature_maps:\n",
    "    oms.FeatureXMLFile().store(\n",
    "        feature_map.getMetaValue(\"spectra_data\")[0].decode()[:-4]\n",
    "        + \"featureXML\",\n",
    "        feature_map,\n",
    "    )\n"
   ]
  },
  {
   "cell_type": "markdown",
   "id": "289b69b3",
   "metadata": {},
   "source": [
    "Link features in a ConsensusMap\n"
   ]
  },
  {
   "cell_type": "code",
   "execution_count": null,
   "id": "92aed437",
   "metadata": {},
   "outputs": [
    {
     "name": "stdout",
     "output_type": "stream",
     "text": [
      "Progress of 'computing RT transformations':\n",
      ".\n",
      "<IDMapper warning: at least one feature has no convex hull - using centroid coordinates for matching> occurred 2 times\n",
      "..\n",
      "Warning: a significant portion of your decharged molecules have gapped, even-numbered charge ladders (1 of 9)This might indicate a too low charge interval being tested.\n",
      ".\n",
      "<..> occurred 2 times\n",
      "Warning: Only 3 data points for LOWESS fit of map 0. Consider adjusting RT or m/z tolerance or max_pairwise_log_fc, decreasing min_rel_cc_size, or increasing max_nr_conflicts.\n",
      "Warning: Only 3 data points for LOWESS fit of map 1. Consider adjusting RT or m/z tolerance or max_pairwise_log_fc, decreasing min_rel_cc_size, or increasing max_nr_conflicts.\n",
      "-- done [took 0.00 s (CPU), 0.00 s (Wall)] -- \n",
      "Progress of 'linking features':\n",
      "-- done [took 0.00 s (CPU), 0.00 s (Wall)] -- \n"
     ]
    }
   ],
   "source": [
    "\n",
    "feature_grouper = oms.FeatureGroupingAlgorithmKD()\n",
    "\n",
    "consensus_map = oms.ConsensusMap()\n",
    "file_descriptions = consensus_map.getColumnHeaders()\n",
    "\n",
    "for i, feature_map in enumerate(feature_maps):\n",
    "    file_description = file_descriptions.get(i, oms.ColumnHeader())\n",
    "    file_description.filename = os.path.basename(\n",
    "        feature_map.getMetaValue(\"spectra_data\")[0].decode()\n",
    "    )\n",
    "    file_description.size = feature_map.size()\n",
    "    file_descriptions[i] = file_description\n",
    "\n",
    "feature_grouper.group(feature_maps, consensus_map)\n",
    "consensus_map.setColumnHeaders(file_descriptions)\n",
    "consensus_map.setUniqueIds()\n",
    "oms.ConsensusXMLFile().store(\"FeatureMatrix.consensusXML\", consensus_map)\n"
   ]
  },
  {
   "cell_type": "markdown",
   "id": "aa534eab",
   "metadata": {},
   "source": [
    "\n",
    "To get a final feature matrix in a table format, export the\n",
    "`:consensus features<consensus feature>` in a `pandas DataFrame`.\n"
   ]
  },
  {
   "cell_type": "code",
   "execution_count": null,
   "id": "f455e7dd",
   "metadata": {},
   "outputs": [
    {
     "data": {
      "text/html": [
       "<div>\n",
       "<style scoped>\n",
       "    .dataframe tbody tr th:only-of-type {\n",
       "        vertical-align: middle;\n",
       "    }\n",
       "\n",
       "    .dataframe tbody tr th {\n",
       "        vertical-align: top;\n",
       "    }\n",
       "\n",
       "    .dataframe thead th {\n",
       "        text-align: right;\n",
       "    }\n",
       "</style>\n",
       "<table border=\"1\" class=\"dataframe\">\n",
       "  <thead>\n",
       "    <tr style=\"text-align: right;\">\n",
       "      <th></th>\n",
       "      <th>sequence</th>\n",
       "      <th>charge</th>\n",
       "      <th>RT</th>\n",
       "      <th>mz</th>\n",
       "      <th>quality</th>\n",
       "      <th>Metabolomics_1.mzML</th>\n",
       "      <th>Metabolomics_2.mzML</th>\n",
       "    </tr>\n",
       "    <tr>\n",
       "      <th>id</th>\n",
       "      <th></th>\n",
       "      <th></th>\n",
       "      <th></th>\n",
       "      <th></th>\n",
       "      <th></th>\n",
       "      <th></th>\n",
       "      <th></th>\n",
       "    </tr>\n",
       "  </thead>\n",
       "  <tbody>\n",
       "    <tr>\n",
       "      <th>11822061296907510152</th>\n",
       "      <td>None</td>\n",
       "      <td>1</td>\n",
       "      <td>498.987864</td>\n",
       "      <td>279.093382</td>\n",
       "      <td>0.016148</td>\n",
       "      <td>1.321831e+07</td>\n",
       "      <td>1.407178e+07</td>\n",
       "    </tr>\n",
       "    <tr>\n",
       "      <th>11377163069362096635</th>\n",
       "      <td>None</td>\n",
       "      <td>1</td>\n",
       "      <td>544.292638</td>\n",
       "      <td>209.153597</td>\n",
       "      <td>0.001844</td>\n",
       "      <td>1.468729e+06</td>\n",
       "      <td>1.684743e+06</td>\n",
       "    </tr>\n",
       "    <tr>\n",
       "      <th>9100940516751327849</th>\n",
       "      <td>None</td>\n",
       "      <td>1</td>\n",
       "      <td>498.987864</td>\n",
       "      <td>301.075331</td>\n",
       "      <td>0.002225</td>\n",
       "      <td>2.007466e+06</td>\n",
       "      <td>1.974032e+06</td>\n",
       "    </tr>\n",
       "    <tr>\n",
       "      <th>6794264966958859073</th>\n",
       "      <td>None</td>\n",
       "      <td>1</td>\n",
       "      <td>319.982463</td>\n",
       "      <td>367.270594</td>\n",
       "      <td>0.000039</td>\n",
       "      <td>1.307579e+06</td>\n",
       "      <td>0.000000e+00</td>\n",
       "    </tr>\n",
       "    <tr>\n",
       "      <th>6352896647196105433</th>\n",
       "      <td>None</td>\n",
       "      <td>2</td>\n",
       "      <td>340.347917</td>\n",
       "      <td>448.313875</td>\n",
       "      <td>0.000028</td>\n",
       "      <td>8.409058e+05</td>\n",
       "      <td>0.000000e+00</td>\n",
       "    </tr>\n",
       "    <tr>\n",
       "      <th>...</th>\n",
       "      <td>...</td>\n",
       "      <td>...</td>\n",
       "      <td>...</td>\n",
       "      <td>...</td>\n",
       "      <td>...</td>\n",
       "      <td>...</td>\n",
       "      <td>...</td>\n",
       "    </tr>\n",
       "    <tr>\n",
       "      <th>16583076243730211320</th>\n",
       "      <td>None</td>\n",
       "      <td>1</td>\n",
       "      <td>461.993733</td>\n",
       "      <td>633.364079</td>\n",
       "      <td>0.000606</td>\n",
       "      <td>0.000000e+00</td>\n",
       "      <td>2.584255e+05</td>\n",
       "    </tr>\n",
       "    <tr>\n",
       "      <th>6519746299996807502</th>\n",
       "      <td>None</td>\n",
       "      <td>1</td>\n",
       "      <td>439.999344</td>\n",
       "      <td>672.404288</td>\n",
       "      <td>0.004309</td>\n",
       "      <td>0.000000e+00</td>\n",
       "      <td>1.830204e+06</td>\n",
       "    </tr>\n",
       "    <tr>\n",
       "      <th>9992738741668303684</th>\n",
       "      <td>None</td>\n",
       "      <td>1</td>\n",
       "      <td>434.045244</td>\n",
       "      <td>691.367317</td>\n",
       "      <td>0.004047</td>\n",
       "      <td>0.000000e+00</td>\n",
       "      <td>1.730371e+06</td>\n",
       "    </tr>\n",
       "    <tr>\n",
       "      <th>11251363336292772468</th>\n",
       "      <td>None</td>\n",
       "      <td>1</td>\n",
       "      <td>396.384892</td>\n",
       "      <td>669.385503</td>\n",
       "      <td>0.024842</td>\n",
       "      <td>0.000000e+00</td>\n",
       "      <td>9.934746e+06</td>\n",
       "    </tr>\n",
       "    <tr>\n",
       "      <th>16704704959524612571</th>\n",
       "      <td>None</td>\n",
       "      <td>1</td>\n",
       "      <td>438.869297</td>\n",
       "      <td>693.382762</td>\n",
       "      <td>0.071067</td>\n",
       "      <td>0.000000e+00</td>\n",
       "      <td>2.788267e+07</td>\n",
       "    </tr>\n",
       "  </tbody>\n",
       "</table>\n",
       "<p>141 rows × 7 columns</p>\n",
       "</div>"
      ],
      "text/plain": [
       "                     sequence  charge          RT          mz   quality  \\\n",
       "id                                                                        \n",
       "11822061296907510152     None       1  498.987864  279.093382  0.016148   \n",
       "11377163069362096635     None       1  544.292638  209.153597  0.001844   \n",
       "9100940516751327849      None       1  498.987864  301.075331  0.002225   \n",
       "6794264966958859073      None       1  319.982463  367.270594  0.000039   \n",
       "6352896647196105433      None       2  340.347917  448.313875  0.000028   \n",
       "...                       ...     ...         ...         ...       ...   \n",
       "16583076243730211320     None       1  461.993733  633.364079  0.000606   \n",
       "6519746299996807502      None       1  439.999344  672.404288  0.004309   \n",
       "9992738741668303684      None       1  434.045244  691.367317  0.004047   \n",
       "11251363336292772468     None       1  396.384892  669.385503  0.024842   \n",
       "16704704959524612571     None       1  438.869297  693.382762  0.071067   \n",
       "\n",
       "                      Metabolomics_1.mzML  Metabolomics_2.mzML  \n",
       "id                                                              \n",
       "11822061296907510152         1.321831e+07         1.407178e+07  \n",
       "11377163069362096635         1.468729e+06         1.684743e+06  \n",
       "9100940516751327849          2.007466e+06         1.974032e+06  \n",
       "6794264966958859073          1.307579e+06         0.000000e+00  \n",
       "6352896647196105433          8.409058e+05         0.000000e+00  \n",
       "...                                   ...                  ...  \n",
       "16583076243730211320         0.000000e+00         2.584255e+05  \n",
       "6519746299996807502          0.000000e+00         1.830204e+06  \n",
       "9992738741668303684          0.000000e+00         1.730371e+06  \n",
       "11251363336292772468         0.000000e+00         9.934746e+06  \n",
       "16704704959524612571         0.000000e+00         2.788267e+07  \n",
       "\n",
       "[141 rows x 7 columns]"
      ]
     },
     "execution_count": null,
     "metadata": {},
     "output_type": "execute_result"
    }
   ],
   "source": [
    "df = consensus_map.get_df()\n",
    "df"
   ]
  },
  {
   "cell_type": "code",
   "execution_count": null,
   "id": "29669d3f",
   "metadata": {},
   "outputs": [],
   "source": [
    "#| hide\n",
    "import nbdev; nbdev.nbdev_export()"
   ]
  }
 ],
 "metadata": {
  "kernelspec": {
   "display_name": "python3",
   "language": "python",
   "name": "python3"
  }
 },
 "nbformat": 4,
 "nbformat_minor": 5
}
